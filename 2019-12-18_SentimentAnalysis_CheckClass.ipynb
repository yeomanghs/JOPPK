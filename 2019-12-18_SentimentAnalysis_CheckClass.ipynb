{
 "cells": [
  {
   "cell_type": "code",
   "execution_count": 1,
   "metadata": {},
   "outputs": [],
   "source": [
    "import PyPDF2\n",
    "from vaderSentiment.vaderSentiment import SentimentIntensityAnalyzer\n",
    "import pandas as pd\n",
    "import os\n",
    "import re\n",
    "import itertools\n",
    "#source: https://stackoverflow.com/questions/26494211/extracting-text-from-a-pdf-file-using-pdfminer-in-python\n",
    "from pdfminer.pdfinterp import PDFResourceManager, PDFPageInterpreter\n",
    "from pdfminer.converter import TextConverter\n",
    "from pdfminer.layout import LAParams\n",
    "from pdfminer.pdfpage import PDFPage\n",
    "from io import StringIO\n",
    "import logging\n",
    "from datetime import datetime\n",
    "import csv"
   ]
  },
  {
   "cell_type": "markdown",
   "metadata": {},
   "source": [
    "# Text extraction"
   ]
  },
  {
   "cell_type": "code",
   "execution_count": 2,
   "metadata": {},
   "outputs": [],
   "source": [
    "#read and extract text from one pdf file using pypdf2\n",
    "def convertPdfToTxt(path):\n",
    "    rsrcmgr = PDFResourceManager()\n",
    "    retstr = StringIO()\n",
    "    #codec = 'utf-8'\n",
    "    laparams = LAParams()\n",
    "    device = TextConverter(rsrcmgr, retstr, laparams=laparams)\n",
    "    fp = open(path, 'rb')\n",
    "    interpreter = PDFPageInterpreter(rsrcmgr, device)\n",
    "    password = \"\"\n",
    "    maxpages = 0\n",
    "    caching = True\n",
    "    pagenos=set()\n",
    "    for page in PDFPage.get_pages(fp, pagenos, maxpages=maxpages, password=password,caching=caching, check_extractable=True):\n",
    "        interpreter.process_page(page)\n",
    "    text = retstr.getvalue()\n",
    "    fp.close()\n",
    "    device.close()\n",
    "    retstr.close()\n",
    "    return text"
   ]
  },
  {
   "cell_type": "code",
   "execution_count": 3,
   "metadata": {},
   "outputs": [],
   "source": [
    "def readPDF(fullPath):\n",
    "    pdf_file = open(fullPath, 'rb')\n",
    "    read_pdf = PyPDF2.PdfFileReader(pdf_file)\n",
    "    page = read_pdf.getPage(0)\n",
    "    page_content = page.extractText()\n",
    "    return page_content"
   ]
  },
  {
   "cell_type": "code",
   "execution_count": 9,
   "metadata": {},
   "outputs": [],
   "source": [
    "file = 'D:/Users/figohjs/Documents/JOPPK/Data/Raw/Quarterly Earnings PDF 4Q 2019/Materials/600585 CG 9M2019 Earnings Update.pdf'\n",
    "a = convertPdfToTxt(file) "
   ]
  },
  {
   "cell_type": "markdown",
   "metadata": {},
   "source": [
    "# Extracting metadata"
   ]
  },
  {
   "cell_type": "code",
   "execution_count": 12,
   "metadata": {},
   "outputs": [
    {
     "data": {
      "text/plain": [
       "'2019'"
      ]
     },
     "execution_count": 12,
     "metadata": {},
     "output_type": "execute_result"
    }
   ],
   "source": [
    "period = re.search('(.{2} )\\d{4}.*', file).group(1)\n",
    "period\n",
    "year = re.search('(\\d{4}) (Earnings|Sales|Revenue).*', file).group(1)\n",
    "year"
   ]
  },
  {
   "cell_type": "markdown",
   "metadata": {},
   "source": [
    "# Group Text"
   ]
  },
  {
   "cell_type": "code",
   "execution_count": 66,
   "metadata": {},
   "outputs": [],
   "source": [
    "#group content - pdfminer based on results review, assessment, more details \n",
    "def groupText(content):\n",
    "    #topicList = ['RESULTS REVIEW:', 'ASSESSMENT:', 'MORE DETAILS:']\n",
    "    topicList = ['RAHSIA', 'ASSESSMENT:', 'MORE DETAILS:']\n",
    "    contentList = content.split('\\n')\n",
    "    if topicList[0] in content:\n",
    "        review = ' '.join([i.strip() for i in contentList[contentList.index(topicList[0]) + 1:contentList.index(topicList[1])]\n",
    "                          if i not in  ['', 'RESULTS REVIEW:']])\n",
    "    elif 'RESULTS REVIEW:' in content:\n",
    "        review = ' '.join([i.strip() for i in contentList[contentList.index('RESULTS REVIEW:') + 1:contentList.index(topicList[1])]\n",
    "                          if i not in  ['', 'RESULTS REVIEW:']])        \n",
    "    assessment = ' '.join([i.strip() for i in contentList[contentList.index(topicList[1]) + 1:contentList.index(topicList[2]) - 1]\n",
    "                      if i not in ['', ':', 'comments:']])\n",
    "    details = ' '.join([i.strip() for i in contentList[contentList.index(topicList[2]):-2]\n",
    "                       if i not in ['',':']])\n",
    "    if 'Announcement date:' in contentList[-1]:\n",
    "        announcementDate = re.search('Announcement date: (.+?\\d{4})', contentList[-1]).group(1)\n",
    "    else:\n",
    "        announcementDate = ''\n",
    "        \n",
    "    return review, assessment, details, announcementDate"
   ]
  },
  {
   "cell_type": "code",
   "execution_count": 34,
   "metadata": {},
   "outputs": [],
   "source": [
    "def groupText2(content):\n",
    "    topicList = ['RESULTS REVIEW:', 'ASSESSMENT:', 'MORE DETAILS:']\n",
    "\n",
    "    contentList = content.split('\\n')\n",
    "    review = ' '.join([i.strip() for i in contentList[contentList.index(topicList[0]) + 1:contentList.index(topicList[1])]\n",
    "                      if i!= ''])\n",
    "    assessment = ' '.join([i.strip() for i in contentList[contentList.index(topicList[1]) + 1:contentList.index(topicList[2]) - 1]\n",
    "                      if i not in ['', ':', 'comments:']])\n",
    "    contentList2 = [i for i in contentList if i != '']\n",
    "    details = ' '.join([re.sub('Ł', '', i.strip()) for i in contentList2[contentList2.index(topicList[2]) + \n",
    "                                      1:] if i not in [':']])\n",
    "    if 'Announcement date:' in contentList[-1]:\n",
    "        announcementDate = re.search('Announcement date: (.+?\\d{4})', groupText(pdf2)[-1]).group(1)\n",
    "    else:\n",
    "        announcementDate = ''\n",
    "    return review, assessment, details, announcementDate"
   ]
  },
  {
   "cell_type": "code",
   "execution_count": 68,
   "metadata": {},
   "outputs": [],
   "source": [
    "path = '../Data/Raw/Quarterly Earnings PDF 2018/Consumer Discretionary/2Q/DAI GY Q2 2018 Earnings Update.pdf'\n",
    "\n",
    "pdf = convertPdfToTxt(path)"
   ]
  },
  {
   "cell_type": "code",
   "execution_count": 78,
   "metadata": {},
   "outputs": [],
   "source": [
    "path = '../Data/Test/XOM UN Q1 2019 Earnings Update.pdf' \n",
    "\n",
    "pdf2 = convertPdfToTxt(path)\n",
    "\n",
    "#pdf2 = readPDF(path)"
   ]
  },
  {
   "cell_type": "code",
   "execution_count": 79,
   "metadata": {},
   "outputs": [
    {
     "data": {
      "text/plain": [
       "'RAHSIA\\n\\nRESULTS REVIEW:\\n\\n• Miss: Q1 2019 earnings miss analysts’ estimates with adjusted EPS of USD0.55 (-23% from consensus USD0.72) driven\\nby the downstream segment as narrowed refinery margins and higher maintenance pressured earnings.\\n\\n• Share price reaction: Shares of ExxonMobil fell 2.1% following its weak earnings and lower oil prices on the day (Brent\\ncrude -3.0%, S&P Energy index -1.2%). \\n\\nASSESSMENT:\\n\\n• Among integrated oil companies, XOM has a clear strategy with assets in three key areas; US shale (Permian basin),\\nLNG (Papua New Guinea and Mozambique) and deepwater (Guyana, Brazil). Unlike peers however, XOM is pursuing an\\naggressive growth strategy, increasing capex targetting production of ~5mb/d by 2025 (current production 4.0mb/d). If\\nsuccessful, cash flow generation from these long-dated projects will be positive for the stock, however lower oil prices\\nremain a significant risk.\\n\\n• Analysts’ comments: JPM noted that Exxon continues to make progress on major growth projects and announced yet\\nanother discovery in Guyana. They look forward to execution on the company’s plans of “significant” asset sales and await\\nmore details on the execution of this in coming quarters. They remain cautious on XOM as FCF generation weakened and\\ngross debt increased on the back of maintaining a heavy dividend.\\n\\nTable: Q1 2019 Results\\n\\nMORE DETAILS:\\n\\n• Net income came in at USD2.35 billion, 49% lower YoY as earnings in upstream and chemicals narrowed while\\ndownstream turned to a loss. By segment:\\n-Upstream: Net income of USD2.8bn was 13% lower YoY as both crude oil and natural gas prices weakened, offsetting\\nproduction growth. Natural gas prices were impacted by warmer weather. \\n-Downstream: Net loss of USD256 million from a profit of USD2.7 billion on weak fuel margins from high gasoline\\ninventory levels and narrowed North American crude differentials. Earnings were also impacted by heavier scheduled\\nmaintenance than expected.\\n-Chemical: Net income of USD518 million was 30% lower as margins continued to weaken on higher supply, offsetting\\ngains from higher sales volumes.\\n\\n• Production of 3.98mb/d was 2.4% higher YoY led by growth of liquids of 5% which offset lower gas production (-1%). Oil\\nproduction growth was led by the US (Permian basin) and Asia. XOM has revised its Permian Basin growth plans to\\nproduce more than 1 mb/d by as early as 2024.\\n\\n• Management expects lower gas volumes in Q2 due to lower seasonal demand. Meanwhile XOM expects refining margins\\nin downstream to recover slightly while chemicals margins will continue to be pressures by ongoing increased supply.\\n\\n(USD mn)Q1 2019Q4 2018FY2018FY2019eFY2020eFY2021eRevenue58,64068,253279,332291,518305,036279,872Growth (YoY)-10.4%4.5%17.8%4.4%4.6%-8.2%EBITNA4,69420,83930,92737,67933,806Growth (YoY)NA134.7%72.6%48.4%21.8%-10.3%MarginNA6.9%7.5%10.6%12.4%12.1%Net income2,3506,00020,84018,30723,52222,020Growth (YoY)-49.5%-28.4%5.7%-12.2%28.5%-6.4%Margin4.0%8.8%7.5%6.3%7.7%7.9%Source: BloombergEXXON MOBIL CORPQ1 2019 Earnings Update (FY-end 31 December)Announcement date: 26/04/2019Holdings InformationCurrent Price (28-Apr-2019)USD80.49Original Book Cost (USDm)135.620192020202112MUpsideMTM vs Ori (% / USDm)-9.0% / -12.1Internal Price Target77.8781.8781.39External Price Target83.674%MTM vs Imp (% / USDm)8.3% / 9.4Upside-3%2%1%Citi75.00-7%YTD Price Performance18%PE17.5017.0017.00MACQ89.0011%Dividend Yield (Cost)4.3%EPS4.454.824.79JPM87.008%\\x0c'"
      ]
     },
     "execution_count": 79,
     "metadata": {},
     "output_type": "execute_result"
    }
   ],
   "source": [
    "pdf2"
   ]
  },
  {
   "cell_type": "code",
   "execution_count": 84,
   "metadata": {},
   "outputs": [
    {
     "data": {
      "text/plain": [
       "2019"
      ]
     },
     "execution_count": 84,
     "metadata": {},
     "output_type": "execute_result"
    }
   ],
   "source": [
    "pd.to_datetime(groupText(pdf2)[-1]).year"
   ]
  },
  {
   "cell_type": "code",
   "execution_count": 70,
   "metadata": {},
   "outputs": [
    {
     "data": {
      "text/plain": [
       "('• Missed: Daimler reported EBIT 8% below consensus. EBIT margin of 7.5% was below consensus of 7.8%, while 2Q2018 EPS of EUR1.61 was also slightly lower than consensus of EUR1.63 due to weaker car division, including China import tariff issue, lost production in the US and weaker diesel pricing. Daimler cut its units sales forecast for Mercedes cars and warned that 3Q profitability to be significantly below 2Q mainly due to new emission testing regulation in the Europe (WLTP). • Share price reaction: Shares fell 0.34% after the results were released.',\n",
       " '• Going forward, developments in its Truck division spin-offs would be key stock price catalysts as its new model launch cycle has peaked. • Analysts’ comments: With the ongoing headwinds (WLTP and tariffs) and the best of the MB Cars cycle having passed, the outlook for EPS will remain subdued at best. Table: Q2 2018 Results',\n",
       " 'MORE DETAILS: • In light of a longer certification process, Daimler has reduced the unit sales outlook for MB cars to \\'around the prior-year level\\' from \\'slightly higher unit sales\\' due to a lower availability of vehicles. This follows the profit warning on 20th June (note), in which it cut Group guidance to \\'slightly below the previous year\\'s level\\' from \\'slightly higher than in previous year\\' driven by cuts across its Cars, Vans and Buses EBIT guidance. • Net liquidity fell again to EUR14.4bn. Daimler continues to expect FCF to \"at least cover\" the FY18 dividend payment.',\n",
       " '')"
      ]
     },
     "execution_count": 70,
     "metadata": {},
     "output_type": "execute_result"
    }
   ],
   "source": [
    "groupText(pdf)"
   ]
  },
  {
   "cell_type": "code",
   "execution_count": 44,
   "metadata": {},
   "outputs": [
    {
     "ename": "RecursionError",
     "evalue": "maximum recursion depth exceeded in comparison",
     "output_type": "error",
     "traceback": [
      "\u001b[1;31m---------------------------------------------------------------------------\u001b[0m",
      "\u001b[1;31mRecursionError\u001b[0m                            Traceback (most recent call last)",
      "\u001b[1;32m<ipython-input-44-3593028bd66e>\u001b[0m in \u001b[0;36m<module>\u001b[1;34m\u001b[0m\n\u001b[1;32m----> 1\u001b[1;33m \u001b[1;32mif\u001b[0m \u001b[1;34m'Announcement date:'\u001b[0m \u001b[1;32min\u001b[0m \u001b[0mgroupText\u001b[0m\u001b[1;33m(\u001b[0m\u001b[0mpdf2\u001b[0m\u001b[1;33m)\u001b[0m\u001b[1;33m[\u001b[0m\u001b[1;33m-\u001b[0m\u001b[1;36m1\u001b[0m\u001b[1;33m]\u001b[0m\u001b[1;33m:\u001b[0m\u001b[1;33m\u001b[0m\u001b[1;33m\u001b[0m\u001b[0m\n\u001b[0m\u001b[0;32m      2\u001b[0m     \u001b[0mprint\u001b[0m\u001b[1;33m(\u001b[0m\u001b[0mpd\u001b[0m\u001b[1;33m.\u001b[0m\u001b[0mto_datetime\u001b[0m\u001b[1;33m(\u001b[0m\u001b[0mre\u001b[0m\u001b[1;33m.\u001b[0m\u001b[0msearch\u001b[0m\u001b[1;33m(\u001b[0m\u001b[1;34m'Announcement date: ([^a-zA-Z]+)'\u001b[0m\u001b[1;33m,\u001b[0m \u001b[0mgroupText\u001b[0m\u001b[1;33m(\u001b[0m\u001b[0mpdf2\u001b[0m\u001b[1;33m)\u001b[0m\u001b[1;33m[\u001b[0m\u001b[1;33m-\u001b[0m\u001b[1;36m1\u001b[0m\u001b[1;33m]\u001b[0m\u001b[1;33m)\u001b[0m\u001b[1;33m.\u001b[0m\u001b[0mgroup\u001b[0m\u001b[1;33m(\u001b[0m\u001b[1;36m1\u001b[0m\u001b[1;33m)\u001b[0m\u001b[1;33m)\u001b[0m\u001b[1;33m.\u001b[0m\u001b[0mmonth\u001b[0m\u001b[1;33m)\u001b[0m\u001b[1;33m\u001b[0m\u001b[1;33m\u001b[0m\u001b[0m\n",
      "\u001b[1;32m<ipython-input-38-adacdf37677d>\u001b[0m in \u001b[0;36mgroupText\u001b[1;34m(content)\u001b[0m\n\u001b[0;32m     15\u001b[0m                        if i not in ['',':']])\n\u001b[0;32m     16\u001b[0m     \u001b[1;32mif\u001b[0m \u001b[1;34m'Announcement date:'\u001b[0m \u001b[1;32min\u001b[0m \u001b[0mcontentList\u001b[0m\u001b[1;33m[\u001b[0m\u001b[1;33m-\u001b[0m\u001b[1;36m1\u001b[0m\u001b[1;33m]\u001b[0m\u001b[1;33m:\u001b[0m\u001b[1;33m\u001b[0m\u001b[1;33m\u001b[0m\u001b[0m\n\u001b[1;32m---> 17\u001b[1;33m         \u001b[0mannouncementDate\u001b[0m \u001b[1;33m=\u001b[0m \u001b[0mre\u001b[0m\u001b[1;33m.\u001b[0m\u001b[0msearch\u001b[0m\u001b[1;33m(\u001b[0m\u001b[1;34m'Announcement date: ([^a-zA-Z]+)'\u001b[0m\u001b[1;33m,\u001b[0m \u001b[0mgroupText\u001b[0m\u001b[1;33m(\u001b[0m\u001b[0mpdf2\u001b[0m\u001b[1;33m)\u001b[0m\u001b[1;33m[\u001b[0m\u001b[1;33m-\u001b[0m\u001b[1;36m1\u001b[0m\u001b[1;33m]\u001b[0m\u001b[1;33m)\u001b[0m\u001b[1;33m.\u001b[0m\u001b[0mgroup\u001b[0m\u001b[1;33m(\u001b[0m\u001b[1;36m1\u001b[0m\u001b[1;33m)\u001b[0m\u001b[1;33m\u001b[0m\u001b[1;33m\u001b[0m\u001b[0m\n\u001b[0m\u001b[0;32m     18\u001b[0m     \u001b[1;32melse\u001b[0m\u001b[1;33m:\u001b[0m\u001b[1;33m\u001b[0m\u001b[1;33m\u001b[0m\u001b[0m\n\u001b[0;32m     19\u001b[0m         \u001b[0mannouncementDate\u001b[0m \u001b[1;33m=\u001b[0m \u001b[1;34m''\u001b[0m\u001b[1;33m\u001b[0m\u001b[1;33m\u001b[0m\u001b[0m\n",
      "... last 1 frames repeated, from the frame below ...\n",
      "\u001b[1;32m<ipython-input-38-adacdf37677d>\u001b[0m in \u001b[0;36mgroupText\u001b[1;34m(content)\u001b[0m\n\u001b[0;32m     15\u001b[0m                        if i not in ['',':']])\n\u001b[0;32m     16\u001b[0m     \u001b[1;32mif\u001b[0m \u001b[1;34m'Announcement date:'\u001b[0m \u001b[1;32min\u001b[0m \u001b[0mcontentList\u001b[0m\u001b[1;33m[\u001b[0m\u001b[1;33m-\u001b[0m\u001b[1;36m1\u001b[0m\u001b[1;33m]\u001b[0m\u001b[1;33m:\u001b[0m\u001b[1;33m\u001b[0m\u001b[1;33m\u001b[0m\u001b[0m\n\u001b[1;32m---> 17\u001b[1;33m         \u001b[0mannouncementDate\u001b[0m \u001b[1;33m=\u001b[0m \u001b[0mre\u001b[0m\u001b[1;33m.\u001b[0m\u001b[0msearch\u001b[0m\u001b[1;33m(\u001b[0m\u001b[1;34m'Announcement date: ([^a-zA-Z]+)'\u001b[0m\u001b[1;33m,\u001b[0m \u001b[0mgroupText\u001b[0m\u001b[1;33m(\u001b[0m\u001b[0mpdf2\u001b[0m\u001b[1;33m)\u001b[0m\u001b[1;33m[\u001b[0m\u001b[1;33m-\u001b[0m\u001b[1;36m1\u001b[0m\u001b[1;33m]\u001b[0m\u001b[1;33m)\u001b[0m\u001b[1;33m.\u001b[0m\u001b[0mgroup\u001b[0m\u001b[1;33m(\u001b[0m\u001b[1;36m1\u001b[0m\u001b[1;33m)\u001b[0m\u001b[1;33m\u001b[0m\u001b[1;33m\u001b[0m\u001b[0m\n\u001b[0m\u001b[0;32m     18\u001b[0m     \u001b[1;32melse\u001b[0m\u001b[1;33m:\u001b[0m\u001b[1;33m\u001b[0m\u001b[1;33m\u001b[0m\u001b[0m\n\u001b[0;32m     19\u001b[0m         \u001b[0mannouncementDate\u001b[0m \u001b[1;33m=\u001b[0m \u001b[1;34m''\u001b[0m\u001b[1;33m\u001b[0m\u001b[1;33m\u001b[0m\u001b[0m\n",
      "\u001b[1;31mRecursionError\u001b[0m: maximum recursion depth exceeded in comparison"
     ]
    }
   ],
   "source": [
    "if 'Announcement date:' in groupText(pdf2)[-1]:\n",
    "    print(pd.to_datetime(re.search('Announcement date: ([^a-zA-Z]+)', groupText(pdf2)[-1]).group(1)).month)"
   ]
  },
  {
   "cell_type": "code",
   "execution_count": 27,
   "metadata": {},
   "outputs": [
    {
     "name": "stdout",
     "output_type": "stream",
     "text": [
      "Yes\n"
     ]
    }
   ],
   "source": [
    "if pd.isnull(pd.to_datetime('')):\n",
    "    print('Yes')"
   ]
  },
  {
   "cell_type": "code",
   "execution_count": 13,
   "metadata": {},
   "outputs": [
    {
     "data": {
      "text/plain": [
       "'(USD mn)Q1 2019Q4 2018FY2018FY2019eFY2020eFY2021eRevenue58,64068,253279,332291,518305,036279,872Growth (YoY)-10.4%4.5%17.8%4.4%4.6%-8.2%EBITNA4,69420,83930,92737,67933,806Growth (YoY)NA134.7%72.6%48.4%21.8%-10.3%MarginNA6.9%7.5%10.6%12.4%12.1%Net income2,3506,00020,84018,30723,52222,020Growth (YoY)-49.5%-28.4%5.7%-12.2%28.5%-6.4%Margin4.0%8.8%7.5%6.3%7.7%7.9%Source: BloombergEXXON MOBIL CORPQ1 2019 Earnings Update (FY-end 31 December)Announcement date: 26/04/2019Holdings InformationCurrent Price (28-Apr-2019)USD80.49Original Book Cost (USDm)135.620192020202112MUpsideMTM vs Ori (% / USDm)-9.0% / -12.1Internal Price Target77.8781.8781.39External Price Target83.674%MTM vs Imp (% / USDm)8.3% / 9.4Upside-3%2%1%Citi75.00-7%YTD Price Performance18%PE17.5017.0017.00MACQ89.0011%Dividend Yield (Cost)4.3%EPS4.454.824.79JPM87.008%\\x0c'"
      ]
     },
     "execution_count": 13,
     "metadata": {},
     "output_type": "execute_result"
    }
   ],
   "source": [
    "groupText(pdf2)[-1]"
   ]
  },
  {
   "cell_type": "code",
   "execution_count": null,
   "metadata": {},
   "outputs": [],
   "source": []
  }
 ],
 "metadata": {
  "kernelspec": {
   "display_name": "Python 3",
   "language": "python",
   "name": "python3"
  },
  "language_info": {
   "codemirror_mode": {
    "name": "ipython",
    "version": 3
   },
   "file_extension": ".py",
   "mimetype": "text/x-python",
   "name": "python",
   "nbconvert_exporter": "python",
   "pygments_lexer": "ipython3",
   "version": "3.7.3"
  }
 },
 "nbformat": 4,
 "nbformat_minor": 2
}
