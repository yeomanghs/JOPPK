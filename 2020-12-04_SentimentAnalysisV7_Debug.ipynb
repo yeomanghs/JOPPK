{
 "cells": [
  {
   "cell_type": "code",
   "execution_count": 1,
   "metadata": {},
   "outputs": [],
   "source": [
    "import PyPDF2\n",
    "from vaderSentiment.vaderSentiment import SentimentIntensityAnalyzer\n",
    "import pandas as pd\n",
    "import os\n",
    "import re\n",
    "import itertools\n",
    "#source: https://stackoverflow.com/questions/26494211/extracting-text-from-a-pdf-file-using-pdfminer-in-python\n",
    "from pdfminer.pdfinterp import PDFResourceManager, PDFPageInterpreter\n",
    "from pdfminer.converter import TextConverter\n",
    "from pdfminer.layout import LAParams\n",
    "from pdfminer.pdfpage import PDFPage\n",
    "from io import StringIO\n",
    "import logging\n",
    "from datetime import datetime\n",
    "import csv\n",
    "\n",
    "def convertPdfToTxt_m2(fullPath):\n",
    "    pdf_file = open(fullPath, 'rb')\n",
    "    read_pdf = PyPDF2.PdfFileReader(pdf_file)\n",
    "    page = read_pdf.getPage(0)\n",
    "    page_content = page.extractText()\n",
    "    return page_content\n",
    "\n",
    "#read and extract text from one pdf file using pdfminer\n",
    "def convertPdfToTxt(path):\n",
    "    rsrcmgr = PDFResourceManager()\n",
    "    retstr = StringIO()\n",
    "    #codec = 'utf-8'\n",
    "    laparams = LAParams()\n",
    "    device = TextConverter(rsrcmgr, retstr, laparams=laparams)\n",
    "    fp = open(path, 'rb')\n",
    "    interpreter = PDFPageInterpreter(rsrcmgr, device)\n",
    "    password = \"\"\n",
    "    maxpages = 0\n",
    "    caching = True\n",
    "    pagenos=set()\n",
    "    for page in PDFPage.get_pages(fp, pagenos, maxpages=maxpages, password=password,caching=caching, check_extractable=True):\n",
    "        interpreter.process_page(page)\n",
    "    text = retstr.getvalue()\n",
    "    fp.close()\n",
    "    device.close()\n",
    "    retstr.close()\n",
    "    return text"
   ]
  },
  {
   "cell_type": "code",
   "execution_count": 2,
   "metadata": {},
   "outputs": [],
   "source": [
    "def groupText(content):\n",
    "    #topicList = ['RESULTS REVIEW:', 'ASSESSMENT:', 'MORE DETAILS:'] \n",
    "    topicList = ['RAHSIA', 'ASSESSMENT:', 'MORE DETAILS:']\n",
    "    contentList = content.split('\\n')\n",
    "    if topicList[0] in content:\n",
    "        review = ' '.join([i.strip() for i in contentList[contentList.index(topicList[0]) + 1:contentList.index(topicList[1])]\n",
    "if i not in  ['', 'RESULTS REVIEW:']])\n",
    "    elif 'RESULTS REVIEW:' in content:\n",
    "        review = ' '.join([i.strip() for i in contentList[contentList.index('RESULTS REVIEW:') + 1:contentList.index(topicList[1])]\n",
    "                      if i not in  ['', 'RESULTS REVIEW:']])  \n",
    "    assessment = ' '.join([i.strip() for i in contentList[contentList.index(topicList[1]) + 1:contentList.index(topicList[2]) - 1]\n",
    "                      if i not in ['', ':', 'comments:']])\n",
    "    details = ' '.join([i.strip() for i in contentList[contentList.index(topicList[2]):-2]\n",
    "                       if i not in ['',':']])\n",
    "#     if 'Announcement date:' in contentList[-1] and re.search('Announcement date: (.+?\\d{4})', contentList[-1]):\n",
    "#         announcementDate = re.search('Announcement date: (.+?\\d{4})', contentList[-1]).group(1)\n",
    "#     else:\n",
    "#         announcementDate = ''\n",
    "    return review, assessment, details"
   ]
  },
  {
   "cell_type": "code",
   "execution_count": null,
   "metadata": {},
   "outputs": [],
   "source": [
    "def groupText2(self, content):\n",
    "    topicList = ['RESULTS REVIEW:', 'ASSESSMENT:', 'MORE DETAILS:']\n",
    "\n",
    "    contentList = content.split('\\n')\n",
    "    review = ' '.join([i.strip() for i in contentList[contentList.index(topicList[0]) + 1:contentList.index(topicList[1])]\n",
    "                      if i!= ''])\n",
    "    assessment = ' '.join([i.strip() for i in contentList[contentList.index(topicList[1]) + 1:contentList.index(topicList[2]) - 1]\n",
    "                      if i not in ['', ':', 'comments:']])\n",
    "    contentList2 = [i for i in contentList if i != '']\n",
    "    details = ' '.join([re.sub('Ł', '', i.strip()) for i in contentList2[contentList2.index(topicList[2]) + \n",
    "                                      1:] if i not in [':']])\n",
    "    if 'Announcement date:' in contentList[-1] and re.search('Announcement date: (.+?\\d{4})', contentList[-1]):\n",
    "        announcementDate = re.search('Announcement date: (.+?\\d{4})', groupText(pdf2)[-1]).group(1)\n",
    "    else:\n",
    "        announcementDate = ''\n",
    "    return review, assessment, details, announcementDate"
   ]
  },
  {
   "cell_type": "code",
   "execution_count": 10,
   "metadata": {},
   "outputs": [],
   "source": [
    "cutSentenceFile = \"D:/Users/figohjs/Documents/JOPPK/Data/External/CutSentence.xlsx\"\n",
    "df = pd.read_excel(cutSentenceFile)\n",
    "cutSentenceDict = df.set_index('Original').to_dict()['Replacement']\n",
    "\n",
    "def cutSentence(text):\n",
    "    #cut sentence\n",
    "    if re.search('|'.join(cutSentenceDict.keys()), text):\n",
    "        matchList = re.findall('|'.join(cutSentenceDict.keys()), text)\n",
    "        for match in matchList:\n",
    "            text = re.sub(match, cutSentenceDict[match], text)     \n",
    "    return text\n",
    "\n",
    "#between -1 (most extreme negative) and +1 (most extreme positive)\n",
    "def giveSentimentScore(text):\n",
    "    analyzer = SentimentIntensityAnalyzer()\n",
    "    text = cutSentence(text)\n",
    "    sentimentscore = analyzer.polarity_scores(text)\n",
    "    score = sentimentscore['compound']\n",
    "    return score\n",
    "\n",
    "def magnifyScore(text, overriding = False):\n",
    "        splitPoint = 'Share price reaction:'\n",
    "        firstText = text.split(splitPoint)[0]\n",
    "        # secondText = re.sub('\\-','minus ', re.sub('\\+', 'plus ', text.split(splitPoint)[1]))\n",
    "        #if no share price reaction in section of more details\n",
    "        if len(text.split(splitPoint)) == 1:\n",
    "            secondText = re.sub('\\-','minus ', re.sub('\\+', 'plus ', text.split(splitPoint)[0]))\n",
    "        else:\n",
    "            secondText = re.sub('\\-','minus ', re.sub('\\+', 'plus ', text.split(splitPoint)[1]))\n",
    "        maxNum = 5\n",
    "        magnifier = 3\n",
    "\n",
    "        weightFirstText = 1/(magnifier + 1)\n",
    "        weightSecondText = magnifier/(magnifier + 1)\n",
    "        #use number in percent as weightage\n",
    "        if re.search('-*(\\d+(\\.\\d+)*)%', secondText):\n",
    "            numberPercent = float(re.search('(\\d+(\\.\\d+)*)%', secondText).group(1))\n",
    "            print(\"Percent:%s \\n\"%numberPercent)\n",
    "            PositivePhraseList = [\"rose\", \"rose by\", \"soared\", \"soared as much as\"]\n",
    "            NegativePhraseList = [\"declined\", \"declined by\", \"slumped\", \"slumped by\", \n",
    "                                  \"fell\", \"fell by\"]\n",
    "            #check if there is positive/negative phrase preceding numberPercent\n",
    "            if re.search(\"(\" + \"|\".join(PositivePhraseList + NegativePhraseList) + \")\\s%s\"%numberPercent, secondText):\n",
    "                secondText = re.search(\"(\" + \"|\".join(PositivePhraseList + NegativePhraseList) + \")\\s%s\"%numberPercent, secondText).group(1)\n",
    "            else:\n",
    "                keyPhrase = ''\n",
    "            #if number is more than maxNum\n",
    "            if numberPercent >= maxNum:\n",
    "                #if overriding is selected\n",
    "                if overriding == True:\n",
    "                    #print('Sentiment (second part text): %s'%self.giveSentimentScore(secondText))\n",
    "                    return giveSentimentScore(secondText)\n",
    "                else:\n",
    "                    numberWeight = 1\n",
    "                    #if secondtext is still not identified, i.e empty:\n",
    "                    if keyPhrase == '':\n",
    "                        secondText = re.search('(.*?\\d+(\\.\\d+)*%(\\s\\w+){0,2})', secondText).group(1)\n",
    "#                     print(\"Before Share Price:%s \\n\"%str(weightFirstText*giveSentimentScore(firstText)))\n",
    "#                     print(\"After Share Price: %s \\n\"%str(weightSecondText*numberWeight*(giveSentimentScore(secondText)/abs(giveSentimentScore(secondText)))))\n",
    "#                     print(\"Second Text: %s \\n\"%str(secondText))\n",
    "                    if giveSentimentScore(secondText) == 0:\n",
    "                        return weightFirstText*giveSentimentScore(firstText)\n",
    "                    else:\n",
    "                        return weightFirstText*giveSentimentScore(firstText) + weightSecondText*numberWeight*(giveSentimentScore(secondText)/abs(giveSentimentScore(secondText)))\n",
    "            else:\n",
    "                numberWeight = numberPercent/maxNum\n",
    "                #print('Sentiment (second part text): %s'%self.giveSentimentScore(secondText))\n",
    "                #print('Number of weight: %s'%numberWeight)\n",
    "                return weightFirstText*giveSentimentScore(firstText) + weightSecondText*numberWeight*giveSentimentScore(secondText)\n",
    "        else:\n",
    "            numberWeight = 1\n",
    "            #print('Sentiment (second part text): %s'%self.giveSentimentScore(secondText))\n",
    "            #print('Number of weight: %s'%numberWeight)\n",
    "            return weightFirstText*giveSentimentScore(firstText) + weightSecondText*numberWeight*giveSentimentScore(secondText)"
   ]
  },
  {
   "cell_type": "markdown",
   "metadata": {},
   "source": [
    "### Healthcare[CVS UN Q3 2018]"
   ]
  },
  {
   "cell_type": "code",
   "execution_count": null,
   "metadata": {},
   "outputs": [],
   "source": [
    "#missing announcement in text so failed group text func"
   ]
  },
  {
   "cell_type": "code",
   "execution_count": 3,
   "metadata": {},
   "outputs": [],
   "source": [
    "filename = \"D:/Users/figohjs/Documents/JOPPK/Data/Raw/Quarterly Earnings PDF 2018/Healthcare/CVS UN Q3 2018 Earnings Update.pdf\"\n",
    "pdf = convertPdfToTxt(filename)"
   ]
  },
  {
   "cell_type": "code",
   "execution_count": 5,
   "metadata": {
    "collapsed": true
   },
   "outputs": [
    {
     "data": {
      "text/plain": [
       "\"RAHSIA\\n\\nRESULTS REVIEW:\\n\\n• Beat: Q3 results beat estimates by 0.99%, posting earnings per share of USD1.73, rising 15.3% YoY (Q3 2017: USD1.50).\\nRevenue was at USD47.27 billion, beating estimates by 0.14%, increasing 2.4% driven by growth in pharmacy network and\\nmail choice claim volume as well as brand inflation, offsetting continued price compression. The company affirmed its 2018\\nguidance to deliver full year Adjusted EPS of USD6.98 to USD7.08.\\n\\n• Share price reaction: +5.71% as the company reported results beating estimates amid online competition. \\n\\n.\\n\\n• Going forward, CVS is best positioned to offset slower growth in drug pricing, while pending deal with Aetna provides\\nsynergies from lowering the total cost of care for patients.\\n\\n• The company continues to face pressure from Amazon's entry into pharmacy business, but the recent performance bodes\\nwell for the company ahead of the closing of Aetna deal. \\n\\n• Analysts’ comments: Revenues were ahead of expectations and EPS was mainly driven by below the line items (lower\\ninterest expense and tax rate). The more specific timeline around the Aetna deal should be viewed as positive as it diminish\\nuncertainty surrounding the deal. \\n\\nTable: Q3 2018 Results\\n\\nMORE DETAILS:\\n\\n• Increase in pharmacy network claim volume was due to an increase in net new business, while the increase in mail choice\\nclaim volume was driven by the continued adoption of Maintenance Choice offerings and an increase in specialty pharmacy\\nclaims. \\n\\n• Retail/LTC segment revenue increased 6.4% to USD20.9 billion, due to an increase in same store prescription volume due\\nto adoption of CVS's Patient Care Programs, alliances with PBMs and health plans. Same store sales was driven by increase\\nin prescription volumes, partially offset by reimbursement pressure and negative impact of generic introduction. \\n\\n• Operating profit in Q3 declined 5.8% due to increase in acquisition related transaction and integration costs, increase in\\noperating expenses due to investment of savings from the Tax Cuts and Jobs Act in wages and benefits, as well as an\\nincrease in operating expenses associated with growth in the business. \\n\\n• CVS continue to expect full year GAAP operating profit to decline 39% to 41%, reflecting goodwill impairment in Q2. Diluted\\nEPS is expected to be at USD1.40 to USD1.50 and Adjusted EPS of USD6.98 to USD7.08. \\n\\n• CVS and Aetna have agreed with the US Department of Justice (DoJ), to divest Aetna's standalone Medicare Part D\\nprescription drug plans. Closing of the divestiture is subject to the closing of CVS's proposed acquisition of Aetna. There are\\nno remaining antitrust impediment to closing of the proposed acquisition, thus the company expect to close the transaction\\nbefore Thanksgiving (22 Nov).\\n\\n(USD mn)Q3 2018Q2 2018FY2017FY2018eFY2019eFY2020eRevenue47,26946,708184,765188,879194,532204,146Growth (YoY)2.4%2.2%4.1%2.2%3.0%4.9%Adjusted EBIT2,373(1,587)9,51710,12310,23510,524Growth (YoY)4.6%NA-8.2%6.4%1.1%2.8%Margin5.0%NA5.2%5.4%5.3%5.2%Adjusted Net income1,721(2,563)6,6227,1907,3967,572Growth (YoY)26.5%NA24.5%8.6%2.9%2.4%Margin3.6%NA3.6%3.8%3.8%3.7%Source: BloombergCVS HEALTH CORPQ3 2018 Earnings Update (FY-end 31 December)Holdings InformationCurrent Price (08/11/18)USD80.05Original Book Cost (USDm)176.22018201920202018UpsideMTM vs Ori (% / USDm)-11.4% / -20.Internal Price Target727480External Price Target99.324%MTM vs Imp (% / USDm)18.7% / 24.6Upside-11%-8%0%BAML92.015%YTD Price Performance7.6%PE11.0011.0011.00MS100.025%Dividend Yield (Cost)2.5%EPS6.506.707.31JPM106.032%\\x0c\""
      ]
     },
     "execution_count": 5,
     "metadata": {},
     "output_type": "execute_result"
    }
   ],
   "source": [
    "pdf"
   ]
  },
  {
   "cell_type": "code",
   "execution_count": 7,
   "metadata": {},
   "outputs": [],
   "source": [
    "reviewText = \"• Beat: Q3 results beat estimates by 0.99%, posting earnings per share of USD1.73, rising 15.3% YoY (Q3 2017: USD1.50).\\nRevenue was at USD47.27 billion, beating estimates by 0.14%, increasing 2.4% driven by growth in pharmacy network and\\nmail choice claim volume as well as brand inflation, offsetting continued price compression. The company affirmed its 2018\\nguidance to deliver full year Adjusted EPS of USD6.98 to USD7.08.\\n\\n• Share price reaction: +5.71% as the company reported results beating estimates amid online competition. \\n\\n.\\n\\n\"\n",
    "assessmentText = \"• Going forward, CVS is best positioned to offset slower growth in drug pricing, while pending deal with Aetna provides\\nsynergies from lowering the total cost of care for patients.\\n\\n• The company continues to face pressure from Amazon's entry into pharmacy business, but the recent performance bodes\\nwell for the company ahead of the closing of Aetna deal. \\n\\n• Analysts’ comments: Revenues were ahead of expectations and EPS was mainly driven by below the line items (lower\\ninterest expense and tax rate). The more specific timeline around the Aetna deal should be viewed as positive as it diminish\\nuncertainty surrounding the deal.\"\n",
    "detailsText = \"• Increase in pharmacy network claim volume was due to an increase in net new business, while the increase in mail choice\\nclaim volume was driven by the continued adoption of Maintenance Choice offerings and an increase in specialty pharmacy\\nclaims. \\n\\n• Retail/LTC segment revenue increased 6.4% to USD20.9 billion, due to an increase in same store prescription volume due\\nto adoption of CVS's Patient Care Programs, alliances with PBMs and health plans. Same store sales was driven by increase\\nin prescription volumes, partially offset by reimbursement pressure and negative impact of generic introduction. \\n\\n• Operating profit in Q3 declined 5.8% due to increase in acquisition related transaction and integration costs, increase in\\noperating expenses due to investment of savings from the Tax Cuts and Jobs Act in wages and benefits, as well as an\\nincrease in operating expenses associated with growth in the business. \\n\\n• CVS continue to expect full year GAAP operating profit to decline 39% to 41%, reflecting goodwill impairment in Q2. Diluted\\nEPS is expected to be at USD1.40 to USD1.50 and Adjusted EPS of USD6.98 to USD7.08. \\n\\n• CVS and Aetna have agreed with the US Department of Justice (DoJ), to divest Aetna's standalone Medicare Part D\\nprescription drug plans. Closing of the divestiture is subject to the closing of CVS's proposed acquisition of Aetna. There are\\nno remaining antitrust impediment to closing of the proposed acquisition, thus the company expect to close the transaction\\nbefore Thanksgiving (22 Nov).\""
   ]
  },
  {
   "cell_type": "code",
   "execution_count": 11,
   "metadata": {},
   "outputs": [
    {
     "name": "stdout",
     "output_type": "stream",
     "text": [
      "Percent:5.71 \n",
      "\n"
     ]
    }
   ],
   "source": [
    "reviewScore = magnifyScore(reviewText)"
   ]
  },
  {
   "cell_type": "code",
   "execution_count": 12,
   "metadata": {},
   "outputs": [],
   "source": [
    "assessmentScore = giveSentimentScore(assessmentText)\n",
    "\n",
    "detailsScore = giveSentimentScore(detailsText)"
   ]
  },
  {
   "cell_type": "code",
   "execution_count": 14,
   "metadata": {},
   "outputs": [
    {
     "data": {
      "text/plain": [
       "0.65762"
      ]
     },
     "execution_count": 14,
     "metadata": {},
     "output_type": "execute_result"
    }
   ],
   "source": [
    "0.4*assessmentScore + 0.4*reviewScore + 0.2*detailsScore"
   ]
  },
  {
   "cell_type": "code",
   "execution_count": null,
   "metadata": {},
   "outputs": [],
   "source": []
  }
 ],
 "metadata": {
  "kernelspec": {
   "display_name": "Python 3",
   "language": "python",
   "name": "python3"
  },
  "language_info": {
   "codemirror_mode": {
    "name": "ipython",
    "version": 3
   },
   "file_extension": ".py",
   "mimetype": "text/x-python",
   "name": "python",
   "nbconvert_exporter": "python",
   "pygments_lexer": "ipython3",
   "version": "3.7.6"
  }
 },
 "nbformat": 4,
 "nbformat_minor": 4
}
